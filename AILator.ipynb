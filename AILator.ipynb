{
 "cells": [
  {
   "cell_type": "code",
   "execution_count": 2,
   "id": "41c0011d",
   "metadata": {},
   "outputs": [],
   "source": [
    "import sympy as sp\n",
    "import matplotlib.pyplot as plt\n",
    "import numpy as np\n",
    "\n",
    "x = sp.symbols('x')\n"
   ]
  },
  {
   "cell_type": "code",
   "execution_count": 3,
   "id": "669737d8",
   "metadata": {},
   "outputs": [],
   "source": [
    "def compute_and_explain(expr):\n",
    "    explanation = \"\"\n",
    "    try:\n",
    "        # Sembolik çözüm\n",
    "        sonuc = sp.sympify(expr)\n",
    "\n",
    "        # Basit adım açıklaması\n",
    "        if isinstance(sonuc, sp.Integral):\n",
    "            explanation += f\"Integral alınacak: {sonuc}\\n\"\n",
    "            sonuc = sp.integrate(sonuc.expr, (x, 0, 1))  # örnek limit\n",
    "            explanation += f\"0-1 aralığında sonucu: {sonuc}\\n\"\n",
    "        elif isinstance(sonuc, sp.Expr):\n",
    "            explanation += f\"İfade çözümlendi: {sonuc}\\n\"\n",
    "\n",
    "        return sonuc, explanation\n",
    "    except Exception as e:\n",
    "        return None, f\"Hata: {e}\"\n"
   ]
  },
  {
   "cell_type": "code",
   "execution_count": 4,
   "id": "c59ac16c",
   "metadata": {},
   "outputs": [],
   "source": [
    "def plot_expression(expr):\n",
    "    f = sp.lambdify(x, expr, 'numpy')\n",
    "    xs = np.linspace(-10, 10, 400)\n",
    "    ys = f(xs)\n",
    "    plt.plot(xs, ys)\n",
    "    plt.title(f\"Grafik: {expr}\")\n",
    "    plt.grid(True)\n",
    "    plt.show()\n"
   ]
  },
  {
   "cell_type": "code",
   "execution_count": null,
   "id": "fbd8cb4c",
   "metadata": {},
   "outputs": [],
   "source": [
    "while True:\n",
    "    user_input = input(\"İşlem girin (çıkmak için boş bırakın): \")\n",
    "    if not user_input:\n",
    "        break\n",
    "\n",
    "    sonuc, explanation = compute_and_explain(user_input)\n",
    "    print(\"Sonuç:\", sonuc)\n",
    "    print(\"Adım Adım Açıklama:\\n\", explanation)\n",
    "\n",
    "    plot_graph = input(\"Grafik çizmek ister misiniz? (e/h): \")\n",
    "    if plot_graph.lower() == 'e' and sonuc is not None:\n",
    "        plot_expression(sp.sympify(user_input))\n"
   ]
  }
 ],
 "metadata": {
  "kernelspec": {
   "display_name": "Python 3",
   "language": "python",
   "name": "python3"
  },
  "language_info": {
   "codemirror_mode": {
    "name": "ipython",
    "version": 3
   },
   "file_extension": ".py",
   "mimetype": "text/x-python",
   "name": "python",
   "nbconvert_exporter": "python",
   "pygments_lexer": "ipython3",
   "version": "3.13.7"
  }
 },
 "nbformat": 4,
 "nbformat_minor": 5
}
